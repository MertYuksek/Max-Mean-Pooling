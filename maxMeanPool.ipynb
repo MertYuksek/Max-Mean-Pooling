{
  "nbformat": 4,
  "nbformat_minor": 0,
  "metadata": {
    "colab": {
      "name": "DUDL_convolution_meanMaxPool.ipynb adlı not defterinin kopyası",
      "provenance": [],
      "collapsed_sections": [],
      "include_colab_link": true
    },
    "kernelspec": {
      "name": "python3",
      "display_name": "Python 3"
    }
  },
  "cells": [
    {
      "cell_type": "markdown",
      "metadata": {
        "id": "view-in-github",
        "colab_type": "text"
      },
      "source": [
        "<a href=\"https://colab.research.google.com/github/MertYuksek/Max-Mean-Pooling/blob/main/maxMeanPool.ipynb\" target=\"_parent\"><img src=\"https://colab.research.google.com/assets/colab-badge.svg\" alt=\"Open In Colab\"/></a>"
      ]
    },
    {
      "cell_type": "code",
      "metadata": {
        "id": "YeuAheYyhdZw"
      },
      "source": [
        "# import libraries\n",
        "import torch\n",
        "import torch.nn as nn\n",
        "import matplotlib.pyplot as plt\n",
        "import numpy as np"
      ],
      "execution_count": 16,
      "outputs": []
    },
    {
      "cell_type": "code",
      "metadata": {
        "colab": {
          "base_uri": "https://localhost:8080/"
        },
        "id": "DkAvg0DMLJ1t",
        "outputId": "bcf4f9e1-32b9-4a90-8b79-14cf80b56a07"
      },
      "source": [
        "# create a pool class instance with parameters\n",
        "\n",
        "# parameters\n",
        "poolSize = 3 # Kernel Size, Spatial Size\n",
        "stride   = 3  \n",
        "\n",
        "# create the instance\n",
        "maxPool2d = nn.MaxPool2d(poolSize,stride=3)\n",
        "maxPool3d = nn.MaxPool3d(poolSize,stride=3)\n",
        "\n",
        "print(p2)\n",
        "print(p3)"
      ],
      "execution_count": 17,
      "outputs": [
        {
          "output_type": "stream",
          "name": "stdout",
          "text": [
            "MaxPool2d(kernel_size=3, stride=3, padding=0, dilation=1, ceil_mode=False)\n",
            "MaxPool3d(kernel_size=3, stride=3, padding=0, dilation=1, ceil_mode=False)\n"
          ]
        }
      ]
    },
    {
      "cell_type": "code",
      "metadata": {
        "colab": {
          "base_uri": "https://localhost:8080/",
          "height": 320
        },
        "id": "gC47cloVLoyG",
        "outputId": "1ee6d61b-9f60-4e9b-d3ed-fd9c06ed1f86"
      },
      "source": [
        "# Create image and apply maxpooling\n",
        "\n",
        "# create a 2D and a 3D image\n",
        "img2 = torch.randn(1,1,30,30) # Grayscale \n",
        "img3 = torch.randn(1,3,30,30) # RGB\n",
        "\n",
        "fig,axs = plt.subplots(1,2,figsize=(10,5))\n",
        "\n",
        "img2view = img2.permute(2,3,1,0).numpy()\n",
        "axs[0].imshow(np.squeeze(img2view));\n",
        "\n",
        "img3view = img3.permute(2,3,1,0).numpy()\n",
        "axs[1].imshow(np.squeeze(img3view));"
      ],
      "execution_count": 18,
      "outputs": [
        {
          "output_type": "stream",
          "name": "stderr",
          "text": [
            "Clipping input data to the valid range for imshow with RGB data ([0..1] for floats or [0..255] for integers).\n"
          ]
        },
        {
          "output_type": "display_data",
          "data": {
            "image/png": "[encoded data removed]",
            "text/plain": [
              "<Figure size 720x360 with 2 Axes>"
            ]
          },
          "metadata": {
            "needs_background": "light"
          }
        }
      ]
    },
    {
      "cell_type": "code",
      "metadata": {
        "colab": {
          "base_uri": "https://localhost:8080/"
        },
        "id": "kFcyr4yvNzPR",
        "outputId": "a39ea983-a64e-4ca8-e254-11542db9aba4"
      },
      "source": [
        "# all combinations of image and maxpool dimensionality\n",
        "\n",
        "img2Pool2 = maxPool2d(img2)\n",
        "print(f'2D image, 2D maxpool: {img2Pool2.shape}\\n' )\n",
        "\n",
        "# it is not possible to apply 3D max pooling to 2D image.\n",
        "# img2Pool3 = maxPool3d(img2)\n",
        "# print(f'2D image, 3D maxpool: {img2Pool2.shape}\\n' )\n",
        "\n",
        "img3Pool2 = p2(img3)\n",
        "print(f'3D image, 2D maxpool: {img3Pool2.shape}\\n' )\n",
        "\n",
        "img3Pool3 = p3(img3)\n",
        "print(f'3D image, 3D maxpool: {img3Pool3.shape}\\n' )"
      ],
      "execution_count": 23,
      "outputs": [
        {
          "output_type": "stream",
          "name": "stdout",
          "text": [
            "2D image, 2D maxpool: torch.Size([1, 1, 10, 10])\n",
            "\n",
            "3D image, 2D maxpool: torch.Size([1, 3, 10, 10])\n",
            "\n",
            "3D image, 3D maxpool: torch.Size([1, 1, 10, 10])\n",
            "\n"
          ]
        }
      ]
    },
    {
      "cell_type": "code",
      "metadata": {
        "id": "lkUGI96-QQuV"
      },
      "source": [
        "# Create a simple CNN\n",
        "\n",
        "cnnModel = nn.Sequential(\n",
        "    \n",
        "    # the convolution pooling block\n",
        "    nn.Conv2d(3,10,5,3,2), # convolution layer, 3 = input Channels, 10 output Channels = Number Of Kernels = Feature Maps, 5 Kernel Size, 3 Stride, 2 padding\n",
        "    nn.ReLU(),                   # activation function\n",
        "    nn.AvgPool3d(3,3),     # average-pool\n",
        "\n",
        "    ## the FFN block\n",
        "    nn.Flatten(),              # vectorize to get from image to linear\n",
        "    nn.Linear(588,1),      # FC linear layer\n",
        "    nn.Sigmoid()             # output activation\n",
        ")"
      ],
      "execution_count": 25,
      "outputs": []
    },
    {
      "cell_type": "code",
      "metadata": {
        "colab": {
          "base_uri": "https://localhost:8080/"
        },
        "id": "GEqnyz52Rb9W",
        "outputId": "ec4315ef-b012-4f1d-85e7-1b5448f6f1e9"
      },
      "source": [
        "# test with a bit of data\n",
        "\n",
        "img = torch.rand(1,3,128,128)\n",
        "\n",
        "conv2d =  nn.Conv2d(3,10,5,3,2)\n",
        "convResult = conv2d(img)\n",
        "pool = nn.AvgPool3d(3,3)\n",
        "poolResult  = pool(convResult)\n",
        "print(convResult.shape)\n",
        "print(poolResult.shape) # Why nn.Linear = 588, 14*14*3 = 588"
      ],
      "execution_count": 36,
      "outputs": [
        {
          "output_type": "stream",
          "name": "stdout",
          "text": [
            "torch.Size([1, 10, 43, 43])\n",
            "torch.Size([1, 3, 14, 14])\n"
          ]
        }
      ]
    }
  ]
}